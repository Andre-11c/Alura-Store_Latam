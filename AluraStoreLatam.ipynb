{
  "cells": [
    {
      "cell_type": "code",
      "execution_count": null,
      "metadata": {},
      "outputs": [
        {
          "name": "stdout",
          "output_type": "stream",
          "text": [
            "Requirement already satisfied: pandas in c:\\users\\user\\documents\\data-science-especialización\\challenges\\challenge1-data-science-latam-main\\.venv\\lib\\site-packages (2.2.3)\n",
            "Requirement already satisfied: numpy>=1.26.0 in c:\\users\\user\\documents\\data-science-especialización\\challenges\\challenge1-data-science-latam-main\\.venv\\lib\\site-packages (from pandas) (2.2.5)\n",
            "Requirement already satisfied: python-dateutil>=2.8.2 in c:\\users\\user\\documents\\data-science-especialización\\challenges\\challenge1-data-science-latam-main\\.venv\\lib\\site-packages (from pandas) (2.9.0.post0)\n",
            "Requirement already satisfied: pytz>=2020.1 in c:\\users\\user\\documents\\data-science-especialización\\challenges\\challenge1-data-science-latam-main\\.venv\\lib\\site-packages (from pandas) (2025.2)\n",
            "Requirement already satisfied: tzdata>=2022.7 in c:\\users\\user\\documents\\data-science-especialización\\challenges\\challenge1-data-science-latam-main\\.venv\\lib\\site-packages (from pandas) (2025.2)\n",
            "Requirement already satisfied: six>=1.5 in c:\\users\\user\\documents\\data-science-especialización\\challenges\\challenge1-data-science-latam-main\\.venv\\lib\\site-packages (from python-dateutil>=2.8.2->pandas) (1.17.0)\n"
          ]
        },
        {
          "name": "stderr",
          "output_type": "stream",
          "text": [
            "\n",
            "[notice] A new release of pip is available: 25.1 -> 25.1.1\n",
            "[notice] To update, run: python.exe -m pip install --upgrade pip\n"
          ]
        }
      ],
      "source": [
        "#instalando librerias necesarias \n",
        "!pip install pandas "
      ]
    },
    {
      "cell_type": "code",
      "execution_count": 34,
      "metadata": {},
      "outputs": [
        {
          "name": "stdout",
          "output_type": "stream",
          "text": [
            "Collecting matplotlib\n",
            "  Downloading matplotlib-3.10.1-cp313-cp313-win_amd64.whl.metadata (11 kB)\n",
            "Collecting contourpy>=1.0.1 (from matplotlib)\n",
            "  Downloading contourpy-1.3.2-cp313-cp313-win_amd64.whl.metadata (5.5 kB)\n",
            "Collecting cycler>=0.10 (from matplotlib)\n",
            "  Downloading cycler-0.12.1-py3-none-any.whl.metadata (3.8 kB)\n",
            "Collecting fonttools>=4.22.0 (from matplotlib)\n",
            "  Downloading fonttools-4.57.0-cp313-cp313-win_amd64.whl.metadata (104 kB)\n",
            "Collecting kiwisolver>=1.3.1 (from matplotlib)\n",
            "  Downloading kiwisolver-1.4.8-cp313-cp313-win_amd64.whl.metadata (6.3 kB)\n",
            "Requirement already satisfied: numpy>=1.23 in c:\\users\\user\\documents\\data-science-especialización\\challenges\\challenge1-data-science-latam-main\\.venv\\lib\\site-packages (from matplotlib) (2.2.5)\n",
            "Requirement already satisfied: packaging>=20.0 in c:\\users\\user\\documents\\data-science-especialización\\challenges\\challenge1-data-science-latam-main\\.venv\\lib\\site-packages (from matplotlib) (25.0)\n",
            "Collecting pillow>=8 (from matplotlib)\n",
            "  Using cached pillow-11.2.1-cp313-cp313-win_amd64.whl.metadata (9.1 kB)\n",
            "Collecting pyparsing>=2.3.1 (from matplotlib)\n",
            "  Downloading pyparsing-3.2.3-py3-none-any.whl.metadata (5.0 kB)\n",
            "Requirement already satisfied: python-dateutil>=2.7 in c:\\users\\user\\documents\\data-science-especialización\\challenges\\challenge1-data-science-latam-main\\.venv\\lib\\site-packages (from matplotlib) (2.9.0.post0)\n",
            "Requirement already satisfied: six>=1.5 in c:\\users\\user\\documents\\data-science-especialización\\challenges\\challenge1-data-science-latam-main\\.venv\\lib\\site-packages (from python-dateutil>=2.7->matplotlib) (1.17.0)\n",
            "Downloading matplotlib-3.10.1-cp313-cp313-win_amd64.whl (8.1 MB)\n",
            "   ---------------------------------------- 0.0/8.1 MB ? eta -:--:--\n",
            "   ---------------------------- ----------- 5.8/8.1 MB 29.9 MB/s eta 0:00:01\n",
            "   ---------------------------------------- 8.1/8.1 MB 27.7 MB/s eta 0:00:00\n",
            "Downloading contourpy-1.3.2-cp313-cp313-win_amd64.whl (223 kB)\n",
            "Downloading cycler-0.12.1-py3-none-any.whl (8.3 kB)\n",
            "Downloading fonttools-4.57.0-cp313-cp313-win_amd64.whl (2.2 MB)\n",
            "   ---------------------------------------- 0.0/2.2 MB ? eta -:--:--\n",
            "   ---------------------------------------- 2.2/2.2 MB 26.1 MB/s eta 0:00:00\n",
            "Downloading kiwisolver-1.4.8-cp313-cp313-win_amd64.whl (71 kB)\n",
            "Using cached pillow-11.2.1-cp313-cp313-win_amd64.whl (2.7 MB)\n",
            "Downloading pyparsing-3.2.3-py3-none-any.whl (111 kB)\n",
            "Installing collected packages: pyparsing, pillow, kiwisolver, fonttools, cycler, contourpy, matplotlib\n",
            "\n",
            "   ---------------------------------------- 0/7 [pyparsing]\n",
            "   ---------------------------------------- 0/7 [pyparsing]\n",
            "   ----- ---------------------------------- 1/7 [pillow]\n",
            "   ----- ---------------------------------- 1/7 [pillow]\n",
            "   ----- ---------------------------------- 1/7 [pillow]\n",
            "   ----- ---------------------------------- 1/7 [pillow]\n",
            "   ----- ---------------------------------- 1/7 [pillow]\n",
            "   ----- ---------------------------------- 1/7 [pillow]\n",
            "   ----- ---------------------------------- 1/7 [pillow]\n",
            "   ----- ---------------------------------- 1/7 [pillow]\n",
            "   ----- ---------------------------------- 1/7 [pillow]\n",
            "   ----- ---------------------------------- 1/7 [pillow]\n",
            "   ----- ---------------------------------- 1/7 [pillow]\n",
            "   ----- ---------------------------------- 1/7 [pillow]\n",
            "   ----- ---------------------------------- 1/7 [pillow]\n",
            "   ----- ---------------------------------- 1/7 [pillow]\n",
            "   ----- ---------------------------------- 1/7 [pillow]\n",
            "   ----- ---------------------------------- 1/7 [pillow]\n",
            "   ----- ---------------------------------- 1/7 [pillow]\n",
            "   ----- ---------------------------------- 1/7 [pillow]\n",
            "   ----- ---------------------------------- 1/7 [pillow]\n",
            "   ----- ---------------------------------- 1/7 [pillow]\n",
            "   ----- ---------------------------------- 1/7 [pillow]\n",
            "   ----- ---------------------------------- 1/7 [pillow]\n",
            "   ----------- ---------------------------- 2/7 [kiwisolver]\n",
            "   ----------------- ---------------------- 3/7 [fonttools]\n",
            "   ----------------- ---------------------- 3/7 [fonttools]\n",
            "   ----------------- ---------------------- 3/7 [fonttools]\n",
            "   ----------------- ---------------------- 3/7 [fonttools]\n",
            "   ----------------- ---------------------- 3/7 [fonttools]\n",
            "   ----------------- ---------------------- 3/7 [fonttools]\n",
            "   ----------------- ---------------------- 3/7 [fonttools]\n",
            "   ----------------- ---------------------- 3/7 [fonttools]\n",
            "   ----------------- ---------------------- 3/7 [fonttools]\n",
            "   ----------------- ---------------------- 3/7 [fonttools]\n",
            "   ----------------- ---------------------- 3/7 [fonttools]\n",
            "   ----------------- ---------------------- 3/7 [fonttools]\n",
            "   ----------------- ---------------------- 3/7 [fonttools]\n",
            "   ----------------- ---------------------- 3/7 [fonttools]\n",
            "   ----------------- ---------------------- 3/7 [fonttools]\n",
            "   ----------------- ---------------------- 3/7 [fonttools]\n",
            "   ----------------- ---------------------- 3/7 [fonttools]\n",
            "   ----------------- ---------------------- 3/7 [fonttools]\n",
            "   ----------------- ---------------------- 3/7 [fonttools]\n",
            "   ----------------- ---------------------- 3/7 [fonttools]\n",
            "   ----------------- ---------------------- 3/7 [fonttools]\n",
            "   ----------------- ---------------------- 3/7 [fonttools]\n",
            "   ----------------- ---------------------- 3/7 [fonttools]\n",
            "   ----------------- ---------------------- 3/7 [fonttools]\n",
            "   ----------------- ---------------------- 3/7 [fonttools]\n",
            "   ----------------- ---------------------- 3/7 [fonttools]\n",
            "   ----------------- ---------------------- 3/7 [fonttools]\n",
            "   ----------------- ---------------------- 3/7 [fonttools]\n",
            "   ----------------- ---------------------- 3/7 [fonttools]\n",
            "   ----------------- ---------------------- 3/7 [fonttools]\n",
            "   ----------------- ---------------------- 3/7 [fonttools]\n",
            "   ----------------- ---------------------- 3/7 [fonttools]\n",
            "   ----------------- ---------------------- 3/7 [fonttools]\n",
            "   ----------------- ---------------------- 3/7 [fonttools]\n",
            "   ----------------- ---------------------- 3/7 [fonttools]\n",
            "   ----------------- ---------------------- 3/7 [fonttools]\n",
            "   ----------------- ---------------------- 3/7 [fonttools]\n",
            "   ----------------- ---------------------- 3/7 [fonttools]\n",
            "   ----------------- ---------------------- 3/7 [fonttools]\n",
            "   ----------------- ---------------------- 3/7 [fonttools]\n",
            "   ----------------- ---------------------- 3/7 [fonttools]\n",
            "   ----------------- ---------------------- 3/7 [fonttools]\n",
            "   ----------------- ---------------------- 3/7 [fonttools]\n",
            "   ----------------- ---------------------- 3/7 [fonttools]\n",
            "   ----------------- ---------------------- 3/7 [fonttools]\n",
            "   ----------------- ---------------------- 3/7 [fonttools]\n",
            "   ----------------- ---------------------- 3/7 [fonttools]\n",
            "   ----------------- ---------------------- 3/7 [fonttools]\n",
            "   ----------------- ---------------------- 3/7 [fonttools]\n",
            "   ----------------- ---------------------- 3/7 [fonttools]\n",
            "   ----------------- ---------------------- 3/7 [fonttools]\n",
            "   ----------------- ---------------------- 3/7 [fonttools]\n",
            "   ----------------- ---------------------- 3/7 [fonttools]\n",
            "   ----------------- ---------------------- 3/7 [fonttools]\n",
            "   ----------------- ---------------------- 3/7 [fonttools]\n",
            "   ----------------- ---------------------- 3/7 [fonttools]\n",
            "   ----------------- ---------------------- 3/7 [fonttools]\n",
            "   ----------------- ---------------------- 3/7 [fonttools]\n",
            "   ----------------- ---------------------- 3/7 [fonttools]\n",
            "   ----------------- ---------------------- 3/7 [fonttools]\n",
            "   ----------------- ---------------------- 3/7 [fonttools]\n",
            "   ----------------- ---------------------- 3/7 [fonttools]\n",
            "   ----------------- ---------------------- 3/7 [fonttools]\n",
            "   ---------------------------- ----------- 5/7 [contourpy]\n",
            "   ---------------------------- ----------- 5/7 [contourpy]\n",
            "   ---------------------------- ----------- 5/7 [contourpy]\n",
            "   ---------------------------------- ----- 6/7 [matplotlib]\n",
            "   ---------------------------------- ----- 6/7 [matplotlib]\n",
            "   ---------------------------------- ----- 6/7 [matplotlib]\n",
            "   ---------------------------------- ----- 6/7 [matplotlib]\n",
            "   ---------------------------------- ----- 6/7 [matplotlib]\n",
            "   ---------------------------------- ----- 6/7 [matplotlib]\n",
            "   ---------------------------------- ----- 6/7 [matplotlib]\n",
            "   ---------------------------------- ----- 6/7 [matplotlib]\n",
            "   ---------------------------------- ----- 6/7 [matplotlib]\n",
            "   ---------------------------------- ----- 6/7 [matplotlib]\n",
            "   ---------------------------------- ----- 6/7 [matplotlib]\n",
            "   ---------------------------------- ----- 6/7 [matplotlib]\n",
            "   ---------------------------------- ----- 6/7 [matplotlib]\n",
            "   ---------------------------------- ----- 6/7 [matplotlib]\n",
            "   ---------------------------------- ----- 6/7 [matplotlib]\n",
            "   ---------------------------------- ----- 6/7 [matplotlib]\n",
            "   ---------------------------------- ----- 6/7 [matplotlib]\n",
            "   ---------------------------------- ----- 6/7 [matplotlib]\n",
            "   ---------------------------------- ----- 6/7 [matplotlib]\n",
            "   ---------------------------------- ----- 6/7 [matplotlib]\n",
            "   ---------------------------------- ----- 6/7 [matplotlib]\n",
            "   ---------------------------------- ----- 6/7 [matplotlib]\n",
            "   ---------------------------------- ----- 6/7 [matplotlib]\n",
            "   ---------------------------------- ----- 6/7 [matplotlib]\n",
            "   ---------------------------------- ----- 6/7 [matplotlib]\n",
            "   ---------------------------------- ----- 6/7 [matplotlib]\n",
            "   ---------------------------------- ----- 6/7 [matplotlib]\n",
            "   ---------------------------------- ----- 6/7 [matplotlib]\n",
            "   ---------------------------------- ----- 6/7 [matplotlib]\n",
            "   ---------------------------------- ----- 6/7 [matplotlib]\n",
            "   ---------------------------------- ----- 6/7 [matplotlib]\n",
            "   ---------------------------------- ----- 6/7 [matplotlib]\n",
            "   ---------------------------------- ----- 6/7 [matplotlib]\n",
            "   ---------------------------------- ----- 6/7 [matplotlib]\n",
            "   ---------------------------------- ----- 6/7 [matplotlib]\n",
            "   ---------------------------------- ----- 6/7 [matplotlib]\n",
            "   ---------------------------------- ----- 6/7 [matplotlib]\n",
            "   ---------------------------------- ----- 6/7 [matplotlib]\n",
            "   ---------------------------------- ----- 6/7 [matplotlib]\n",
            "   ---------------------------------- ----- 6/7 [matplotlib]\n",
            "   ---------------------------------- ----- 6/7 [matplotlib]\n",
            "   ---------------------------------- ----- 6/7 [matplotlib]\n",
            "   ---------------------------------- ----- 6/7 [matplotlib]\n",
            "   ---------------------------------- ----- 6/7 [matplotlib]\n",
            "   ---------------------------------- ----- 6/7 [matplotlib]\n",
            "   ---------------------------------- ----- 6/7 [matplotlib]\n",
            "   ---------------------------------- ----- 6/7 [matplotlib]\n",
            "   ---------------------------------- ----- 6/7 [matplotlib]\n",
            "   ---------------------------------- ----- 6/7 [matplotlib]\n",
            "   ---------------------------------- ----- 6/7 [matplotlib]\n",
            "   ---------------------------------- ----- 6/7 [matplotlib]\n",
            "   ---------------------------------- ----- 6/7 [matplotlib]\n",
            "   ---------------------------------- ----- 6/7 [matplotlib]\n",
            "   ---------------------------------- ----- 6/7 [matplotlib]\n",
            "   ---------------------------------- ----- 6/7 [matplotlib]\n",
            "   ---------------------------------- ----- 6/7 [matplotlib]\n",
            "   ---------------------------------- ----- 6/7 [matplotlib]\n",
            "   ---------------------------------- ----- 6/7 [matplotlib]\n",
            "   ---------------------------------- ----- 6/7 [matplotlib]\n",
            "   ---------------------------------------- 7/7 [matplotlib]\n",
            "\n",
            "Successfully installed contourpy-1.3.2 cycler-0.12.1 fonttools-4.57.0 kiwisolver-1.4.8 matplotlib-3.10.1 pillow-11.2.1 pyparsing-3.2.3\n"
          ]
        },
        {
          "name": "stderr",
          "output_type": "stream",
          "text": [
            "\n",
            "[notice] A new release of pip is available: 25.1 -> 25.1.1\n",
            "[notice] To update, run: python.exe -m pip install --upgrade pip\n"
          ]
        }
      ],
      "source": [
        "!pip install matplotlib"
      ]
    },
    {
      "cell_type": "code",
      "execution_count": 36,
      "metadata": {},
      "outputs": [],
      "source": [
        "import matplotlib.pyplot as plt"
      ]
    },
    {
      "cell_type": "markdown",
      "metadata": {
        "id": "RhEdWd9YUR6H"
      },
      "source": [
        "### Importación de datos\n",
        "\n"
      ]
    },
    {
      "cell_type": "code",
      "execution_count": 2,
      "metadata": {
        "colab": {
          "base_uri": "https://localhost:8080/",
          "height": 206
        },
        "id": "T3EvaeQ_INIL",
        "outputId": "e9c5efe1-82a3-43ab-e8d7-6d01e4fa3514"
      },
      "outputs": [
        {
          "data": {
            "application/vnd.microsoft.datawrangler.viewer.v0+json": {
              "columns": [
                {
                  "name": "index",
                  "rawType": "int64",
                  "type": "integer"
                },
                {
                  "name": "Producto",
                  "rawType": "object",
                  "type": "string"
                },
                {
                  "name": "Categoría del Producto",
                  "rawType": "object",
                  "type": "string"
                },
                {
                  "name": "Precio",
                  "rawType": "float64",
                  "type": "float"
                },
                {
                  "name": "Costo de envío",
                  "rawType": "float64",
                  "type": "float"
                },
                {
                  "name": "Fecha de Compra",
                  "rawType": "object",
                  "type": "string"
                },
                {
                  "name": "Vendedor",
                  "rawType": "object",
                  "type": "string"
                },
                {
                  "name": "Lugar de Compra",
                  "rawType": "object",
                  "type": "string"
                },
                {
                  "name": "Calificación",
                  "rawType": "int64",
                  "type": "integer"
                },
                {
                  "name": "Método de pago",
                  "rawType": "object",
                  "type": "string"
                },
                {
                  "name": "Cantidad de cuotas",
                  "rawType": "int64",
                  "type": "integer"
                },
                {
                  "name": "lat",
                  "rawType": "float64",
                  "type": "float"
                },
                {
                  "name": "lon",
                  "rawType": "float64",
                  "type": "float"
                }
              ],
              "conversionMethod": "pd.DataFrame",
              "ref": "545effc6-b1fc-4b61-91bc-b76faa9cb058",
              "rows": [
                [
                  "0",
                  "Asistente virtual",
                  "Electrónicos",
                  "164300.0",
                  "6900.0",
                  "16/01/2021",
                  "Pedro Gomez",
                  "Bogotá",
                  "4",
                  "Tarjeta de crédito",
                  "8",
                  "4.60971",
                  "-74.08175"
                ],
                [
                  "1",
                  "Mesa de comedor",
                  "Muebles",
                  "192300.0",
                  "8400.0",
                  "18/05/2022",
                  "Beatriz Morales",
                  "Medellín",
                  "1",
                  "Tarjeta de crédito",
                  "4",
                  "6.25184",
                  "-75.56359"
                ],
                [
                  "2",
                  "Juego de mesa",
                  "Juguetes",
                  "209600.0",
                  "15900.0",
                  "15/03/2021",
                  "Juan Fernandez",
                  "Cartagena",
                  "1",
                  "Tarjeta de crédito",
                  "1",
                  "10.39972",
                  "-75.51444"
                ],
                [
                  "3",
                  "Microondas",
                  "Electrodomésticos",
                  "757500.0",
                  "41000.0",
                  "03/05/2022",
                  "Juan Fernandez",
                  "Cali",
                  "4",
                  "Nequi",
                  "1",
                  "3.43722",
                  "-76.5225"
                ],
                [
                  "4",
                  "Silla de oficina",
                  "Muebles",
                  "335200.0",
                  "20200.0",
                  "07/11/2020",
                  "Maria Alfonso",
                  "Medellín",
                  "5",
                  "Nequi",
                  "1",
                  "6.25184",
                  "-75.56359"
                ]
              ],
              "shape": {
                "columns": 12,
                "rows": 5
              }
            },
            "text/html": [
              "<div>\n",
              "<style scoped>\n",
              "    .dataframe tbody tr th:only-of-type {\n",
              "        vertical-align: middle;\n",
              "    }\n",
              "\n",
              "    .dataframe tbody tr th {\n",
              "        vertical-align: top;\n",
              "    }\n",
              "\n",
              "    .dataframe thead th {\n",
              "        text-align: right;\n",
              "    }\n",
              "</style>\n",
              "<table border=\"1\" class=\"dataframe\">\n",
              "  <thead>\n",
              "    <tr style=\"text-align: right;\">\n",
              "      <th></th>\n",
              "      <th>Producto</th>\n",
              "      <th>Categoría del Producto</th>\n",
              "      <th>Precio</th>\n",
              "      <th>Costo de envío</th>\n",
              "      <th>Fecha de Compra</th>\n",
              "      <th>Vendedor</th>\n",
              "      <th>Lugar de Compra</th>\n",
              "      <th>Calificación</th>\n",
              "      <th>Método de pago</th>\n",
              "      <th>Cantidad de cuotas</th>\n",
              "      <th>lat</th>\n",
              "      <th>lon</th>\n",
              "    </tr>\n",
              "  </thead>\n",
              "  <tbody>\n",
              "    <tr>\n",
              "      <th>0</th>\n",
              "      <td>Asistente virtual</td>\n",
              "      <td>Electrónicos</td>\n",
              "      <td>164300.0</td>\n",
              "      <td>6900.0</td>\n",
              "      <td>16/01/2021</td>\n",
              "      <td>Pedro Gomez</td>\n",
              "      <td>Bogotá</td>\n",
              "      <td>4</td>\n",
              "      <td>Tarjeta de crédito</td>\n",
              "      <td>8</td>\n",
              "      <td>4.60971</td>\n",
              "      <td>-74.08175</td>\n",
              "    </tr>\n",
              "    <tr>\n",
              "      <th>1</th>\n",
              "      <td>Mesa de comedor</td>\n",
              "      <td>Muebles</td>\n",
              "      <td>192300.0</td>\n",
              "      <td>8400.0</td>\n",
              "      <td>18/05/2022</td>\n",
              "      <td>Beatriz Morales</td>\n",
              "      <td>Medellín</td>\n",
              "      <td>1</td>\n",
              "      <td>Tarjeta de crédito</td>\n",
              "      <td>4</td>\n",
              "      <td>6.25184</td>\n",
              "      <td>-75.56359</td>\n",
              "    </tr>\n",
              "    <tr>\n",
              "      <th>2</th>\n",
              "      <td>Juego de mesa</td>\n",
              "      <td>Juguetes</td>\n",
              "      <td>209600.0</td>\n",
              "      <td>15900.0</td>\n",
              "      <td>15/03/2021</td>\n",
              "      <td>Juan Fernandez</td>\n",
              "      <td>Cartagena</td>\n",
              "      <td>1</td>\n",
              "      <td>Tarjeta de crédito</td>\n",
              "      <td>1</td>\n",
              "      <td>10.39972</td>\n",
              "      <td>-75.51444</td>\n",
              "    </tr>\n",
              "    <tr>\n",
              "      <th>3</th>\n",
              "      <td>Microondas</td>\n",
              "      <td>Electrodomésticos</td>\n",
              "      <td>757500.0</td>\n",
              "      <td>41000.0</td>\n",
              "      <td>03/05/2022</td>\n",
              "      <td>Juan Fernandez</td>\n",
              "      <td>Cali</td>\n",
              "      <td>4</td>\n",
              "      <td>Nequi</td>\n",
              "      <td>1</td>\n",
              "      <td>3.43722</td>\n",
              "      <td>-76.52250</td>\n",
              "    </tr>\n",
              "    <tr>\n",
              "      <th>4</th>\n",
              "      <td>Silla de oficina</td>\n",
              "      <td>Muebles</td>\n",
              "      <td>335200.0</td>\n",
              "      <td>20200.0</td>\n",
              "      <td>07/11/2020</td>\n",
              "      <td>Maria Alfonso</td>\n",
              "      <td>Medellín</td>\n",
              "      <td>5</td>\n",
              "      <td>Nequi</td>\n",
              "      <td>1</td>\n",
              "      <td>6.25184</td>\n",
              "      <td>-75.56359</td>\n",
              "    </tr>\n",
              "  </tbody>\n",
              "</table>\n",
              "</div>"
            ],
            "text/plain": [
              "            Producto Categoría del Producto    Precio  Costo de envío  \\\n",
              "0  Asistente virtual           Electrónicos  164300.0          6900.0   \n",
              "1    Mesa de comedor                Muebles  192300.0          8400.0   \n",
              "2      Juego de mesa               Juguetes  209600.0         15900.0   \n",
              "3         Microondas      Electrodomésticos  757500.0         41000.0   \n",
              "4   Silla de oficina                Muebles  335200.0         20200.0   \n",
              "\n",
              "  Fecha de Compra         Vendedor Lugar de Compra  Calificación  \\\n",
              "0      16/01/2021      Pedro Gomez          Bogotá             4   \n",
              "1      18/05/2022  Beatriz Morales        Medellín             1   \n",
              "2      15/03/2021   Juan Fernandez       Cartagena             1   \n",
              "3      03/05/2022   Juan Fernandez            Cali             4   \n",
              "4      07/11/2020    Maria Alfonso        Medellín             5   \n",
              "\n",
              "       Método de pago  Cantidad de cuotas       lat       lon  \n",
              "0  Tarjeta de crédito                   8   4.60971 -74.08175  \n",
              "1  Tarjeta de crédito                   4   6.25184 -75.56359  \n",
              "2  Tarjeta de crédito                   1  10.39972 -75.51444  \n",
              "3               Nequi                   1   3.43722 -76.52250  \n",
              "4               Nequi                   1   6.25184 -75.56359  "
            ]
          },
          "execution_count": 2,
          "metadata": {},
          "output_type": "execute_result"
        }
      ],
      "source": [
        "import pandas as pd\n",
        "\n",
        "url = \"https://raw.githubusercontent.com/alura-es-cursos/challenge1-data-science-latam/refs/heads/main/base-de-datos-challenge1-latam/tienda_1%20.csv\"\n",
        "url2 = \"https://raw.githubusercontent.com/alura-es-cursos/challenge1-data-science-latam/refs/heads/main/base-de-datos-challenge1-latam/tienda_2.csv\"\n",
        "url3 = \"https://raw.githubusercontent.com/alura-es-cursos/challenge1-data-science-latam/refs/heads/main/base-de-datos-challenge1-latam/tienda_3.csv\"\n",
        "url4 = \"https://raw.githubusercontent.com/alura-es-cursos/challenge1-data-science-latam/refs/heads/main/base-de-datos-challenge1-latam/tienda_4.csv\"\n",
        "\n",
        "tienda = pd.read_csv(url)\n",
        "tienda2 = pd.read_csv(url2)\n",
        "tienda3 = pd.read_csv(url3)\n",
        "tienda4 = pd.read_csv(url4)\n",
        "\n",
        "tienda.head()"
      ]
    },
    {
      "cell_type": "markdown",
      "metadata": {},
      "source": [
        "# Explorando datos de cada tienda"
      ]
    },
    {
      "cell_type": "code",
      "execution_count": 3,
      "metadata": {},
      "outputs": [
        {
          "data": {
            "application/vnd.microsoft.datawrangler.viewer.v0+json": {
              "columns": [
                {
                  "name": "index",
                  "rawType": "object",
                  "type": "string"
                },
                {
                  "name": "Precio",
                  "rawType": "float64",
                  "type": "float"
                },
                {
                  "name": "Costo de envío",
                  "rawType": "float64",
                  "type": "float"
                },
                {
                  "name": "Calificación",
                  "rawType": "float64",
                  "type": "float"
                },
                {
                  "name": "Cantidad de cuotas",
                  "rawType": "float64",
                  "type": "float"
                },
                {
                  "name": "lat",
                  "rawType": "float64",
                  "type": "float"
                },
                {
                  "name": "lon",
                  "rawType": "float64",
                  "type": "float"
                }
              ],
              "conversionMethod": "pd.DataFrame",
              "ref": "20706066-2f07-43a5-87d0-c0721c193549",
              "rows": [
                [
                  "count",
                  "2359.0",
                  "2359.0",
                  "2359.0",
                  "2359.0",
                  "2359.0",
                  "2359.0"
                ],
                [
                  "mean",
                  "487867.9101314116",
                  "26018.60958033065",
                  "3.976685036032217",
                  "2.943196269605765",
                  "5.365282831708351",
                  "-74.7894174014413"
                ],
                [
                  "std",
                  "614686.7653873172",
                  "32860.001782560554",
                  "1.4153702610339252",
                  "2.8198969161170355",
                  "2.2874452492678565",
                  "1.217827272708863"
                ],
                [
                  "min",
                  "7600.0",
                  "0.0",
                  "1.0",
                  "1.0",
                  "-4.21528",
                  "-77.28111"
                ],
                [
                  "25%",
                  "55750.0",
                  "3100.0",
                  "3.0",
                  "1.0",
                  "4.60971",
                  "-75.56359"
                ],
                [
                  "50%",
                  "235300.0",
                  "12400.0",
                  "5.0",
                  "1.0",
                  "4.60971",
                  "-74.19904"
                ],
                [
                  "75%",
                  "678100.0",
                  "36000.0",
                  "5.0",
                  "4.0",
                  "6.25184",
                  "-74.08175"
                ],
                [
                  "max",
                  "2977000.0",
                  "160800.0",
                  "5.0",
                  "24.0",
                  "11.54444",
                  "-67.9239"
                ]
              ],
              "shape": {
                "columns": 6,
                "rows": 8
              }
            },
            "text/html": [
              "<div>\n",
              "<style scoped>\n",
              "    .dataframe tbody tr th:only-of-type {\n",
              "        vertical-align: middle;\n",
              "    }\n",
              "\n",
              "    .dataframe tbody tr th {\n",
              "        vertical-align: top;\n",
              "    }\n",
              "\n",
              "    .dataframe thead th {\n",
              "        text-align: right;\n",
              "    }\n",
              "</style>\n",
              "<table border=\"1\" class=\"dataframe\">\n",
              "  <thead>\n",
              "    <tr style=\"text-align: right;\">\n",
              "      <th></th>\n",
              "      <th>Precio</th>\n",
              "      <th>Costo de envío</th>\n",
              "      <th>Calificación</th>\n",
              "      <th>Cantidad de cuotas</th>\n",
              "      <th>lat</th>\n",
              "      <th>lon</th>\n",
              "    </tr>\n",
              "  </thead>\n",
              "  <tbody>\n",
              "    <tr>\n",
              "      <th>count</th>\n",
              "      <td>2.359000e+03</td>\n",
              "      <td>2359.000000</td>\n",
              "      <td>2359.000000</td>\n",
              "      <td>2359.000000</td>\n",
              "      <td>2359.000000</td>\n",
              "      <td>2359.000000</td>\n",
              "    </tr>\n",
              "    <tr>\n",
              "      <th>mean</th>\n",
              "      <td>4.878679e+05</td>\n",
              "      <td>26018.609580</td>\n",
              "      <td>3.976685</td>\n",
              "      <td>2.943196</td>\n",
              "      <td>5.365283</td>\n",
              "      <td>-74.789417</td>\n",
              "    </tr>\n",
              "    <tr>\n",
              "      <th>std</th>\n",
              "      <td>6.146868e+05</td>\n",
              "      <td>32860.001783</td>\n",
              "      <td>1.415370</td>\n",
              "      <td>2.819897</td>\n",
              "      <td>2.287445</td>\n",
              "      <td>1.217827</td>\n",
              "    </tr>\n",
              "    <tr>\n",
              "      <th>min</th>\n",
              "      <td>7.600000e+03</td>\n",
              "      <td>0.000000</td>\n",
              "      <td>1.000000</td>\n",
              "      <td>1.000000</td>\n",
              "      <td>-4.215280</td>\n",
              "      <td>-77.281110</td>\n",
              "    </tr>\n",
              "    <tr>\n",
              "      <th>25%</th>\n",
              "      <td>5.575000e+04</td>\n",
              "      <td>3100.000000</td>\n",
              "      <td>3.000000</td>\n",
              "      <td>1.000000</td>\n",
              "      <td>4.609710</td>\n",
              "      <td>-75.563590</td>\n",
              "    </tr>\n",
              "    <tr>\n",
              "      <th>50%</th>\n",
              "      <td>2.353000e+05</td>\n",
              "      <td>12400.000000</td>\n",
              "      <td>5.000000</td>\n",
              "      <td>1.000000</td>\n",
              "      <td>4.609710</td>\n",
              "      <td>-74.199040</td>\n",
              "    </tr>\n",
              "    <tr>\n",
              "      <th>75%</th>\n",
              "      <td>6.781000e+05</td>\n",
              "      <td>36000.000000</td>\n",
              "      <td>5.000000</td>\n",
              "      <td>4.000000</td>\n",
              "      <td>6.251840</td>\n",
              "      <td>-74.081750</td>\n",
              "    </tr>\n",
              "    <tr>\n",
              "      <th>max</th>\n",
              "      <td>2.977000e+06</td>\n",
              "      <td>160800.000000</td>\n",
              "      <td>5.000000</td>\n",
              "      <td>24.000000</td>\n",
              "      <td>11.544440</td>\n",
              "      <td>-67.923900</td>\n",
              "    </tr>\n",
              "  </tbody>\n",
              "</table>\n",
              "</div>"
            ],
            "text/plain": [
              "             Precio  Costo de envío  Calificación  Cantidad de cuotas  \\\n",
              "count  2.359000e+03     2359.000000   2359.000000         2359.000000   \n",
              "mean   4.878679e+05    26018.609580      3.976685            2.943196   \n",
              "std    6.146868e+05    32860.001783      1.415370            2.819897   \n",
              "min    7.600000e+03        0.000000      1.000000            1.000000   \n",
              "25%    5.575000e+04     3100.000000      3.000000            1.000000   \n",
              "50%    2.353000e+05    12400.000000      5.000000            1.000000   \n",
              "75%    6.781000e+05    36000.000000      5.000000            4.000000   \n",
              "max    2.977000e+06   160800.000000      5.000000           24.000000   \n",
              "\n",
              "               lat          lon  \n",
              "count  2359.000000  2359.000000  \n",
              "mean      5.365283   -74.789417  \n",
              "std       2.287445     1.217827  \n",
              "min      -4.215280   -77.281110  \n",
              "25%       4.609710   -75.563590  \n",
              "50%       4.609710   -74.199040  \n",
              "75%       6.251840   -74.081750  \n",
              "max      11.544440   -67.923900  "
            ]
          },
          "execution_count": 3,
          "metadata": {},
          "output_type": "execute_result"
        }
      ],
      "source": [
        "#Tienda 1 \n",
        "tienda.describe()"
      ]
    },
    {
      "cell_type": "code",
      "execution_count": 4,
      "metadata": {},
      "outputs": [
        {
          "data": {
            "application/vnd.microsoft.datawrangler.viewer.v0+json": {
              "columns": [
                {
                  "name": "index",
                  "rawType": "object",
                  "type": "string"
                },
                {
                  "name": "Precio",
                  "rawType": "float64",
                  "type": "float"
                },
                {
                  "name": "Costo de envío",
                  "rawType": "float64",
                  "type": "float"
                },
                {
                  "name": "Calificación",
                  "rawType": "float64",
                  "type": "float"
                },
                {
                  "name": "Cantidad de cuotas",
                  "rawType": "float64",
                  "type": "float"
                },
                {
                  "name": "lat",
                  "rawType": "float64",
                  "type": "float"
                },
                {
                  "name": "lon",
                  "rawType": "float64",
                  "type": "float"
                }
              ],
              "conversionMethod": "pd.DataFrame",
              "ref": "ccb08a99-5120-41ae-bff7-d3f7c2871bfb",
              "rows": [
                [
                  "count",
                  "2359.0",
                  "2359.0",
                  "2359.0",
                  "2359.0",
                  "2359.0",
                  "2359.0"
                ],
                [
                  "mean",
                  "473227.42687579483",
                  "25216.235693090293",
                  "4.037303942348453",
                  "2.9025010597710894",
                  "5.499753454853751",
                  "-74.74296271301398"
                ],
                [
                  "std",
                  "595559.5496238902",
                  "31741.37516624006",
                  "1.3561528891095176",
                  "2.848416315473245",
                  "2.3511176512146634",
                  "1.1859967108330094"
                ],
                [
                  "min",
                  "7600.0",
                  "0.0",
                  "1.0",
                  "1.0",
                  "-4.21528",
                  "-77.28111"
                ],
                [
                  "25%",
                  "54550.0",
                  "2900.0",
                  "4.0",
                  "1.0",
                  "4.60971",
                  "-75.56359"
                ],
                [
                  "50%",
                  "218200.0",
                  "11600.0",
                  "5.0",
                  "1.0",
                  "4.60971",
                  "-74.19904"
                ],
                [
                  "75%",
                  "677700.0",
                  "35450.0",
                  "5.0",
                  "4.0",
                  "6.25184",
                  "-74.08175"
                ],
                [
                  "max",
                  "2953400.0",
                  "162500.0",
                  "5.0",
                  "24.0",
                  "11.54444",
                  "-67.9239"
                ]
              ],
              "shape": {
                "columns": 6,
                "rows": 8
              }
            },
            "text/html": [
              "<div>\n",
              "<style scoped>\n",
              "    .dataframe tbody tr th:only-of-type {\n",
              "        vertical-align: middle;\n",
              "    }\n",
              "\n",
              "    .dataframe tbody tr th {\n",
              "        vertical-align: top;\n",
              "    }\n",
              "\n",
              "    .dataframe thead th {\n",
              "        text-align: right;\n",
              "    }\n",
              "</style>\n",
              "<table border=\"1\" class=\"dataframe\">\n",
              "  <thead>\n",
              "    <tr style=\"text-align: right;\">\n",
              "      <th></th>\n",
              "      <th>Precio</th>\n",
              "      <th>Costo de envío</th>\n",
              "      <th>Calificación</th>\n",
              "      <th>Cantidad de cuotas</th>\n",
              "      <th>lat</th>\n",
              "      <th>lon</th>\n",
              "    </tr>\n",
              "  </thead>\n",
              "  <tbody>\n",
              "    <tr>\n",
              "      <th>count</th>\n",
              "      <td>2.359000e+03</td>\n",
              "      <td>2359.000000</td>\n",
              "      <td>2359.000000</td>\n",
              "      <td>2359.000000</td>\n",
              "      <td>2359.000000</td>\n",
              "      <td>2359.000000</td>\n",
              "    </tr>\n",
              "    <tr>\n",
              "      <th>mean</th>\n",
              "      <td>4.732274e+05</td>\n",
              "      <td>25216.235693</td>\n",
              "      <td>4.037304</td>\n",
              "      <td>2.902501</td>\n",
              "      <td>5.499753</td>\n",
              "      <td>-74.742963</td>\n",
              "    </tr>\n",
              "    <tr>\n",
              "      <th>std</th>\n",
              "      <td>5.955595e+05</td>\n",
              "      <td>31741.375166</td>\n",
              "      <td>1.356153</td>\n",
              "      <td>2.848416</td>\n",
              "      <td>2.351118</td>\n",
              "      <td>1.185997</td>\n",
              "    </tr>\n",
              "    <tr>\n",
              "      <th>min</th>\n",
              "      <td>7.600000e+03</td>\n",
              "      <td>0.000000</td>\n",
              "      <td>1.000000</td>\n",
              "      <td>1.000000</td>\n",
              "      <td>-4.215280</td>\n",
              "      <td>-77.281110</td>\n",
              "    </tr>\n",
              "    <tr>\n",
              "      <th>25%</th>\n",
              "      <td>5.455000e+04</td>\n",
              "      <td>2900.000000</td>\n",
              "      <td>4.000000</td>\n",
              "      <td>1.000000</td>\n",
              "      <td>4.609710</td>\n",
              "      <td>-75.563590</td>\n",
              "    </tr>\n",
              "    <tr>\n",
              "      <th>50%</th>\n",
              "      <td>2.182000e+05</td>\n",
              "      <td>11600.000000</td>\n",
              "      <td>5.000000</td>\n",
              "      <td>1.000000</td>\n",
              "      <td>4.609710</td>\n",
              "      <td>-74.199040</td>\n",
              "    </tr>\n",
              "    <tr>\n",
              "      <th>75%</th>\n",
              "      <td>6.777000e+05</td>\n",
              "      <td>35450.000000</td>\n",
              "      <td>5.000000</td>\n",
              "      <td>4.000000</td>\n",
              "      <td>6.251840</td>\n",
              "      <td>-74.081750</td>\n",
              "    </tr>\n",
              "    <tr>\n",
              "      <th>max</th>\n",
              "      <td>2.953400e+06</td>\n",
              "      <td>162500.000000</td>\n",
              "      <td>5.000000</td>\n",
              "      <td>24.000000</td>\n",
              "      <td>11.544440</td>\n",
              "      <td>-67.923900</td>\n",
              "    </tr>\n",
              "  </tbody>\n",
              "</table>\n",
              "</div>"
            ],
            "text/plain": [
              "             Precio  Costo de envío  Calificación  Cantidad de cuotas  \\\n",
              "count  2.359000e+03     2359.000000   2359.000000         2359.000000   \n",
              "mean   4.732274e+05    25216.235693      4.037304            2.902501   \n",
              "std    5.955595e+05    31741.375166      1.356153            2.848416   \n",
              "min    7.600000e+03        0.000000      1.000000            1.000000   \n",
              "25%    5.455000e+04     2900.000000      4.000000            1.000000   \n",
              "50%    2.182000e+05    11600.000000      5.000000            1.000000   \n",
              "75%    6.777000e+05    35450.000000      5.000000            4.000000   \n",
              "max    2.953400e+06   162500.000000      5.000000           24.000000   \n",
              "\n",
              "               lat          lon  \n",
              "count  2359.000000  2359.000000  \n",
              "mean      5.499753   -74.742963  \n",
              "std       2.351118     1.185997  \n",
              "min      -4.215280   -77.281110  \n",
              "25%       4.609710   -75.563590  \n",
              "50%       4.609710   -74.199040  \n",
              "75%       6.251840   -74.081750  \n",
              "max      11.544440   -67.923900  "
            ]
          },
          "execution_count": 4,
          "metadata": {},
          "output_type": "execute_result"
        }
      ],
      "source": [
        "#Tienda 2\n",
        "tienda2.describe()"
      ]
    },
    {
      "cell_type": "code",
      "execution_count": 5,
      "metadata": {},
      "outputs": [
        {
          "data": {
            "application/vnd.microsoft.datawrangler.viewer.v0+json": {
              "columns": [
                {
                  "name": "index",
                  "rawType": "object",
                  "type": "string"
                },
                {
                  "name": "Precio",
                  "rawType": "float64",
                  "type": "float"
                },
                {
                  "name": "Costo de envío",
                  "rawType": "float64",
                  "type": "float"
                },
                {
                  "name": "Calificación",
                  "rawType": "float64",
                  "type": "float"
                },
                {
                  "name": "Cantidad de cuotas",
                  "rawType": "float64",
                  "type": "float"
                },
                {
                  "name": "lat",
                  "rawType": "float64",
                  "type": "float"
                },
                {
                  "name": "lon",
                  "rawType": "float64",
                  "type": "float"
                }
              ],
              "conversionMethod": "pd.DataFrame",
              "ref": "43dd64a7-5307-416b-b5fa-60279afe30c8",
              "rows": [
                [
                  "count",
                  "2359.0",
                  "2359.0",
                  "2359.0",
                  "2359.0",
                  "2359.0",
                  "2359.0"
                ],
                [
                  "mean",
                  "465459.7710894447",
                  "24805.680373039424",
                  "4.048325561678677",
                  "2.967782958880882",
                  "5.437076324713862",
                  "-74.73346308605342"
                ],
                [
                  "std",
                  "580643.3913721378",
                  "30945.889626378885",
                  "1.3864256014110292",
                  "2.8121533999890467",
                  "2.405271698638626",
                  "1.2245717632157644"
                ],
                [
                  "min",
                  "7600.0",
                  "0.0",
                  "1.0",
                  "1.0",
                  "-4.21528",
                  "-77.28111"
                ],
                [
                  "25%",
                  "57400.0",
                  "3100.0",
                  "4.0",
                  "1.0",
                  "4.60971",
                  "-75.56359"
                ],
                [
                  "50%",
                  "226300.0",
                  "11900.0",
                  "5.0",
                  "2.0",
                  "4.60971",
                  "-74.19904"
                ],
                [
                  "75%",
                  "666050.0",
                  "34950.0",
                  "5.0",
                  "4.0",
                  "6.25184",
                  "-74.08175"
                ],
                [
                  "max",
                  "2968200.0",
                  "158400.0",
                  "5.0",
                  "24.0",
                  "11.54444",
                  "-67.9239"
                ]
              ],
              "shape": {
                "columns": 6,
                "rows": 8
              }
            },
            "text/html": [
              "<div>\n",
              "<style scoped>\n",
              "    .dataframe tbody tr th:only-of-type {\n",
              "        vertical-align: middle;\n",
              "    }\n",
              "\n",
              "    .dataframe tbody tr th {\n",
              "        vertical-align: top;\n",
              "    }\n",
              "\n",
              "    .dataframe thead th {\n",
              "        text-align: right;\n",
              "    }\n",
              "</style>\n",
              "<table border=\"1\" class=\"dataframe\">\n",
              "  <thead>\n",
              "    <tr style=\"text-align: right;\">\n",
              "      <th></th>\n",
              "      <th>Precio</th>\n",
              "      <th>Costo de envío</th>\n",
              "      <th>Calificación</th>\n",
              "      <th>Cantidad de cuotas</th>\n",
              "      <th>lat</th>\n",
              "      <th>lon</th>\n",
              "    </tr>\n",
              "  </thead>\n",
              "  <tbody>\n",
              "    <tr>\n",
              "      <th>count</th>\n",
              "      <td>2.359000e+03</td>\n",
              "      <td>2359.000000</td>\n",
              "      <td>2359.000000</td>\n",
              "      <td>2359.000000</td>\n",
              "      <td>2359.000000</td>\n",
              "      <td>2359.000000</td>\n",
              "    </tr>\n",
              "    <tr>\n",
              "      <th>mean</th>\n",
              "      <td>4.654598e+05</td>\n",
              "      <td>24805.680373</td>\n",
              "      <td>4.048326</td>\n",
              "      <td>2.967783</td>\n",
              "      <td>5.437076</td>\n",
              "      <td>-74.733463</td>\n",
              "    </tr>\n",
              "    <tr>\n",
              "      <th>std</th>\n",
              "      <td>5.806434e+05</td>\n",
              "      <td>30945.889626</td>\n",
              "      <td>1.386426</td>\n",
              "      <td>2.812153</td>\n",
              "      <td>2.405272</td>\n",
              "      <td>1.224572</td>\n",
              "    </tr>\n",
              "    <tr>\n",
              "      <th>min</th>\n",
              "      <td>7.600000e+03</td>\n",
              "      <td>0.000000</td>\n",
              "      <td>1.000000</td>\n",
              "      <td>1.000000</td>\n",
              "      <td>-4.215280</td>\n",
              "      <td>-77.281110</td>\n",
              "    </tr>\n",
              "    <tr>\n",
              "      <th>25%</th>\n",
              "      <td>5.740000e+04</td>\n",
              "      <td>3100.000000</td>\n",
              "      <td>4.000000</td>\n",
              "      <td>1.000000</td>\n",
              "      <td>4.609710</td>\n",
              "      <td>-75.563590</td>\n",
              "    </tr>\n",
              "    <tr>\n",
              "      <th>50%</th>\n",
              "      <td>2.263000e+05</td>\n",
              "      <td>11900.000000</td>\n",
              "      <td>5.000000</td>\n",
              "      <td>2.000000</td>\n",
              "      <td>4.609710</td>\n",
              "      <td>-74.199040</td>\n",
              "    </tr>\n",
              "    <tr>\n",
              "      <th>75%</th>\n",
              "      <td>6.660500e+05</td>\n",
              "      <td>34950.000000</td>\n",
              "      <td>5.000000</td>\n",
              "      <td>4.000000</td>\n",
              "      <td>6.251840</td>\n",
              "      <td>-74.081750</td>\n",
              "    </tr>\n",
              "    <tr>\n",
              "      <th>max</th>\n",
              "      <td>2.968200e+06</td>\n",
              "      <td>158400.000000</td>\n",
              "      <td>5.000000</td>\n",
              "      <td>24.000000</td>\n",
              "      <td>11.544440</td>\n",
              "      <td>-67.923900</td>\n",
              "    </tr>\n",
              "  </tbody>\n",
              "</table>\n",
              "</div>"
            ],
            "text/plain": [
              "             Precio  Costo de envío  Calificación  Cantidad de cuotas  \\\n",
              "count  2.359000e+03     2359.000000   2359.000000         2359.000000   \n",
              "mean   4.654598e+05    24805.680373      4.048326            2.967783   \n",
              "std    5.806434e+05    30945.889626      1.386426            2.812153   \n",
              "min    7.600000e+03        0.000000      1.000000            1.000000   \n",
              "25%    5.740000e+04     3100.000000      4.000000            1.000000   \n",
              "50%    2.263000e+05    11900.000000      5.000000            2.000000   \n",
              "75%    6.660500e+05    34950.000000      5.000000            4.000000   \n",
              "max    2.968200e+06   158400.000000      5.000000           24.000000   \n",
              "\n",
              "               lat          lon  \n",
              "count  2359.000000  2359.000000  \n",
              "mean      5.437076   -74.733463  \n",
              "std       2.405272     1.224572  \n",
              "min      -4.215280   -77.281110  \n",
              "25%       4.609710   -75.563590  \n",
              "50%       4.609710   -74.199040  \n",
              "75%       6.251840   -74.081750  \n",
              "max      11.544440   -67.923900  "
            ]
          },
          "execution_count": 5,
          "metadata": {},
          "output_type": "execute_result"
        }
      ],
      "source": [
        "#Tienda 3 \n",
        "tienda3.describe()"
      ]
    },
    {
      "cell_type": "code",
      "execution_count": 6,
      "metadata": {},
      "outputs": [
        {
          "data": {
            "application/vnd.microsoft.datawrangler.viewer.v0+json": {
              "columns": [
                {
                  "name": "index",
                  "rawType": "object",
                  "type": "string"
                },
                {
                  "name": "Precio",
                  "rawType": "float64",
                  "type": "float"
                },
                {
                  "name": "Costo de envío",
                  "rawType": "float64",
                  "type": "float"
                },
                {
                  "name": "Calificación",
                  "rawType": "float64",
                  "type": "float"
                },
                {
                  "name": "Cantidad de cuotas",
                  "rawType": "float64",
                  "type": "float"
                },
                {
                  "name": "lat",
                  "rawType": "float64",
                  "type": "float"
                },
                {
                  "name": "lon",
                  "rawType": "float64",
                  "type": "float"
                }
              ],
              "conversionMethod": "pd.DataFrame",
              "ref": "b1a082f9-be18-49af-82e8-0c2471390247",
              "rows": [
                [
                  "count",
                  "2358.0",
                  "2358.0",
                  "2358.0",
                  "2358.0",
                  "2358.0",
                  "2358.0"
                ],
                [
                  "mean",
                  "440362.89228159457",
                  "23459.457167090754",
                  "3.9957591178965224",
                  "2.8960983884648006",
                  "5.413518859202714",
                  "-74.77459652671756"
                ],
                [
                  "std",
                  "568755.6039486047",
                  "30279.10083597881",
                  "1.4030631365395623",
                  "2.730393065082189",
                  "2.3767282584142015",
                  "1.1997491363184039"
                ],
                [
                  "min",
                  "7600.0",
                  "0.0",
                  "1.0",
                  "1.0",
                  "-4.21528",
                  "-77.28111"
                ],
                [
                  "25%",
                  "53400.0",
                  "2900.0",
                  "3.0",
                  "1.0",
                  "4.60971",
                  "-75.56359"
                ],
                [
                  "50%",
                  "209450.0",
                  "10950.0",
                  "5.0",
                  "1.0",
                  "4.60971",
                  "-74.19904"
                ],
                [
                  "75%",
                  "634225.0",
                  "33300.0",
                  "5.0",
                  "4.0",
                  "6.25184",
                  "-74.08175"
                ],
                [
                  "max",
                  "2902200.0",
                  "154700.0",
                  "5.0",
                  "18.0",
                  "11.54444",
                  "-67.9239"
                ]
              ],
              "shape": {
                "columns": 6,
                "rows": 8
              }
            },
            "text/html": [
              "<div>\n",
              "<style scoped>\n",
              "    .dataframe tbody tr th:only-of-type {\n",
              "        vertical-align: middle;\n",
              "    }\n",
              "\n",
              "    .dataframe tbody tr th {\n",
              "        vertical-align: top;\n",
              "    }\n",
              "\n",
              "    .dataframe thead th {\n",
              "        text-align: right;\n",
              "    }\n",
              "</style>\n",
              "<table border=\"1\" class=\"dataframe\">\n",
              "  <thead>\n",
              "    <tr style=\"text-align: right;\">\n",
              "      <th></th>\n",
              "      <th>Precio</th>\n",
              "      <th>Costo de envío</th>\n",
              "      <th>Calificación</th>\n",
              "      <th>Cantidad de cuotas</th>\n",
              "      <th>lat</th>\n",
              "      <th>lon</th>\n",
              "    </tr>\n",
              "  </thead>\n",
              "  <tbody>\n",
              "    <tr>\n",
              "      <th>count</th>\n",
              "      <td>2.358000e+03</td>\n",
              "      <td>2358.000000</td>\n",
              "      <td>2358.000000</td>\n",
              "      <td>2358.000000</td>\n",
              "      <td>2358.000000</td>\n",
              "      <td>2358.000000</td>\n",
              "    </tr>\n",
              "    <tr>\n",
              "      <th>mean</th>\n",
              "      <td>4.403629e+05</td>\n",
              "      <td>23459.457167</td>\n",
              "      <td>3.995759</td>\n",
              "      <td>2.896098</td>\n",
              "      <td>5.413519</td>\n",
              "      <td>-74.774597</td>\n",
              "    </tr>\n",
              "    <tr>\n",
              "      <th>std</th>\n",
              "      <td>5.687556e+05</td>\n",
              "      <td>30279.100836</td>\n",
              "      <td>1.403063</td>\n",
              "      <td>2.730393</td>\n",
              "      <td>2.376728</td>\n",
              "      <td>1.199749</td>\n",
              "    </tr>\n",
              "    <tr>\n",
              "      <th>min</th>\n",
              "      <td>7.600000e+03</td>\n",
              "      <td>0.000000</td>\n",
              "      <td>1.000000</td>\n",
              "      <td>1.000000</td>\n",
              "      <td>-4.215280</td>\n",
              "      <td>-77.281110</td>\n",
              "    </tr>\n",
              "    <tr>\n",
              "      <th>25%</th>\n",
              "      <td>5.340000e+04</td>\n",
              "      <td>2900.000000</td>\n",
              "      <td>3.000000</td>\n",
              "      <td>1.000000</td>\n",
              "      <td>4.609710</td>\n",
              "      <td>-75.563590</td>\n",
              "    </tr>\n",
              "    <tr>\n",
              "      <th>50%</th>\n",
              "      <td>2.094500e+05</td>\n",
              "      <td>10950.000000</td>\n",
              "      <td>5.000000</td>\n",
              "      <td>1.000000</td>\n",
              "      <td>4.609710</td>\n",
              "      <td>-74.199040</td>\n",
              "    </tr>\n",
              "    <tr>\n",
              "      <th>75%</th>\n",
              "      <td>6.342250e+05</td>\n",
              "      <td>33300.000000</td>\n",
              "      <td>5.000000</td>\n",
              "      <td>4.000000</td>\n",
              "      <td>6.251840</td>\n",
              "      <td>-74.081750</td>\n",
              "    </tr>\n",
              "    <tr>\n",
              "      <th>max</th>\n",
              "      <td>2.902200e+06</td>\n",
              "      <td>154700.000000</td>\n",
              "      <td>5.000000</td>\n",
              "      <td>18.000000</td>\n",
              "      <td>11.544440</td>\n",
              "      <td>-67.923900</td>\n",
              "    </tr>\n",
              "  </tbody>\n",
              "</table>\n",
              "</div>"
            ],
            "text/plain": [
              "             Precio  Costo de envío  Calificación  Cantidad de cuotas  \\\n",
              "count  2.358000e+03     2358.000000   2358.000000         2358.000000   \n",
              "mean   4.403629e+05    23459.457167      3.995759            2.896098   \n",
              "std    5.687556e+05    30279.100836      1.403063            2.730393   \n",
              "min    7.600000e+03        0.000000      1.000000            1.000000   \n",
              "25%    5.340000e+04     2900.000000      3.000000            1.000000   \n",
              "50%    2.094500e+05    10950.000000      5.000000            1.000000   \n",
              "75%    6.342250e+05    33300.000000      5.000000            4.000000   \n",
              "max    2.902200e+06   154700.000000      5.000000           18.000000   \n",
              "\n",
              "               lat          lon  \n",
              "count  2358.000000  2358.000000  \n",
              "mean      5.413519   -74.774597  \n",
              "std       2.376728     1.199749  \n",
              "min      -4.215280   -77.281110  \n",
              "25%       4.609710   -75.563590  \n",
              "50%       4.609710   -74.199040  \n",
              "75%       6.251840   -74.081750  \n",
              "max      11.544440   -67.923900  "
            ]
          },
          "execution_count": 6,
          "metadata": {},
          "output_type": "execute_result"
        }
      ],
      "source": [
        "#Tienda 4 \n",
        "tienda4.describe()"
      ]
    },
    {
      "cell_type": "markdown",
      "metadata": {},
      "source": [
        "## Tipos de datos "
      ]
    },
    {
      "cell_type": "code",
      "execution_count": 7,
      "metadata": {},
      "outputs": [
        {
          "name": "stdout",
          "output_type": "stream",
          "text": [
            "Información detallada - Tienda 1:\n",
            "<class 'pandas.core.frame.DataFrame'>\n",
            "RangeIndex: 2359 entries, 0 to 2358\n",
            "Data columns (total 12 columns):\n",
            " #   Column                  Non-Null Count  Dtype  \n",
            "---  ------                  --------------  -----  \n",
            " 0   Producto                2359 non-null   object \n",
            " 1   Categoría del Producto  2359 non-null   object \n",
            " 2   Precio                  2359 non-null   float64\n",
            " 3   Costo de envío          2359 non-null   float64\n",
            " 4   Fecha de Compra         2359 non-null   object \n",
            " 5   Vendedor                2359 non-null   object \n",
            " 6   Lugar de Compra         2359 non-null   object \n",
            " 7   Calificación            2359 non-null   int64  \n",
            " 8   Método de pago          2359 non-null   object \n",
            " 9   Cantidad de cuotas      2359 non-null   int64  \n",
            " 10  lat                     2359 non-null   float64\n",
            " 11  lon                     2359 non-null   float64\n",
            "dtypes: float64(4), int64(2), object(6)\n",
            "memory usage: 221.3+ KB\n"
          ]
        }
      ],
      "source": [
        "# Información más detallada para cada tienda\n",
        "#Tienda 1 : \n",
        "print(\"Información detallada - Tienda 1:\")\n",
        "tienda.info()"
      ]
    },
    {
      "cell_type": "code",
      "execution_count": 8,
      "metadata": {},
      "outputs": [
        {
          "name": "stdout",
          "output_type": "stream",
          "text": [
            "\n",
            "Información detallada - Tienda 2:\n",
            "<class 'pandas.core.frame.DataFrame'>\n",
            "RangeIndex: 2359 entries, 0 to 2358\n",
            "Data columns (total 12 columns):\n",
            " #   Column                  Non-Null Count  Dtype  \n",
            "---  ------                  --------------  -----  \n",
            " 0   Producto                2359 non-null   object \n",
            " 1   Categoría del Producto  2359 non-null   object \n",
            " 2   Precio                  2359 non-null   float64\n",
            " 3   Costo de envío          2359 non-null   float64\n",
            " 4   Fecha de Compra         2359 non-null   object \n",
            " 5   Vendedor                2359 non-null   object \n",
            " 6   Lugar de Compra         2359 non-null   object \n",
            " 7   Calificación            2359 non-null   int64  \n",
            " 8   Método de pago          2359 non-null   object \n",
            " 9   Cantidad de cuotas      2359 non-null   int64  \n",
            " 10  lat                     2359 non-null   float64\n",
            " 11  lon                     2359 non-null   float64\n",
            "dtypes: float64(4), int64(2), object(6)\n",
            "memory usage: 221.3+ KB\n"
          ]
        }
      ],
      "source": [
        "#Tienda 2 : \n",
        "print(\"\\nInformación detallada - Tienda 2:\")\n",
        "tienda2.info()"
      ]
    },
    {
      "cell_type": "code",
      "execution_count": 9,
      "metadata": {},
      "outputs": [
        {
          "name": "stdout",
          "output_type": "stream",
          "text": [
            "\n",
            "Información detallada - Tienda 3:\n",
            "<class 'pandas.core.frame.DataFrame'>\n",
            "RangeIndex: 2359 entries, 0 to 2358\n",
            "Data columns (total 12 columns):\n",
            " #   Column                  Non-Null Count  Dtype  \n",
            "---  ------                  --------------  -----  \n",
            " 0   Producto                2359 non-null   object \n",
            " 1   Categoría del Producto  2359 non-null   object \n",
            " 2   Precio                  2359 non-null   float64\n",
            " 3   Costo de envío          2359 non-null   float64\n",
            " 4   Fecha de Compra         2359 non-null   object \n",
            " 5   Vendedor                2359 non-null   object \n",
            " 6   Lugar de Compra         2359 non-null   object \n",
            " 7   Calificación            2359 non-null   int64  \n",
            " 8   Método de pago          2359 non-null   object \n",
            " 9   Cantidad de cuotas      2359 non-null   int64  \n",
            " 10  lat                     2359 non-null   float64\n",
            " 11  lon                     2359 non-null   float64\n",
            "dtypes: float64(4), int64(2), object(6)\n",
            "memory usage: 221.3+ KB\n"
          ]
        }
      ],
      "source": [
        "#Tienda 3 : \n",
        "print(\"\\nInformación detallada - Tienda 3:\")\n",
        "tienda3.info()"
      ]
    },
    {
      "cell_type": "code",
      "execution_count": 10,
      "metadata": {},
      "outputs": [
        {
          "name": "stdout",
          "output_type": "stream",
          "text": [
            "\n",
            "Información detallada - Tienda 4:\n",
            "<class 'pandas.core.frame.DataFrame'>\n",
            "RangeIndex: 2358 entries, 0 to 2357\n",
            "Data columns (total 12 columns):\n",
            " #   Column                  Non-Null Count  Dtype  \n",
            "---  ------                  --------------  -----  \n",
            " 0   Producto                2358 non-null   object \n",
            " 1   Categoría del Producto  2358 non-null   object \n",
            " 2   Precio                  2358 non-null   float64\n",
            " 3   Costo de envío          2358 non-null   float64\n",
            " 4   Fecha de Compra         2358 non-null   object \n",
            " 5   Vendedor                2358 non-null   object \n",
            " 6   Lugar de Compra         2358 non-null   object \n",
            " 7   Calificación            2358 non-null   int64  \n",
            " 8   Método de pago          2358 non-null   object \n",
            " 9   Cantidad de cuotas      2358 non-null   int64  \n",
            " 10  lat                     2358 non-null   float64\n",
            " 11  lon                     2358 non-null   float64\n",
            "dtypes: float64(4), int64(2), object(6)\n",
            "memory usage: 221.2+ KB\n"
          ]
        }
      ],
      "source": [
        "#Tienda 4: \n",
        "print(\"\\nInformación detallada - Tienda 4:\")\n",
        "tienda4.info()"
      ]
    },
    {
      "cell_type": "markdown",
      "metadata": {},
      "source": [
        "## Verificando si hay valores faltantes"
      ]
    },
    {
      "cell_type": "markdown",
      "metadata": {},
      "source": [
        "Debido a que el RangeIndex es  `RangeIndex: 2358 entries, 0 to 2357` y `Non-Null Count` es `2358` significa que : \n",
        "> El DataFrame tiene 2358 filas en total  <br/>\n",
        "\n",
        "> La columna específica tiene 2358 valores no nulos  <br/>\n",
        "\n",
        "> Por lo tanto, no hay valores nulos o faltantes en esa columna  <br/>"
      ]
    },
    {
      "cell_type": "markdown",
      "metadata": {
        "id": "X62IW3KFUIYm"
      },
      "source": [
        "# 1. Análisis de facturación\n",
        "\n"
      ]
    },
    {
      "cell_type": "markdown",
      "metadata": {},
      "source": [
        "## Ingreso total por cada tienda"
      ]
    },
    {
      "cell_type": "code",
      "execution_count": 11,
      "metadata": {
        "id": "xykobSftV64I"
      },
      "outputs": [
        {
          "data": {
            "text/plain": [
              "np.float64(1150880400.0)"
            ]
          },
          "execution_count": 11,
          "metadata": {},
          "output_type": "execute_result"
        }
      ],
      "source": [
        "facturacion_tienda=tienda['Precio'].sum()\n",
        "facturacion_tienda"
      ]
    },
    {
      "cell_type": "code",
      "execution_count": 12,
      "metadata": {},
      "outputs": [
        {
          "data": {
            "text/plain": [
              "np.float64(1116343500.0)"
            ]
          },
          "execution_count": 12,
          "metadata": {},
          "output_type": "execute_result"
        }
      ],
      "source": [
        "facturacion_tienda2=tienda2['Precio'].sum()\n",
        "facturacion_tienda2"
      ]
    },
    {
      "cell_type": "code",
      "execution_count": 13,
      "metadata": {},
      "outputs": [
        {
          "data": {
            "text/plain": [
              "np.float64(1098019600.0)"
            ]
          },
          "execution_count": 13,
          "metadata": {},
          "output_type": "execute_result"
        }
      ],
      "source": [
        "facturacion_tienda3=tienda3['Precio'].sum()\n",
        "facturacion_tienda3"
      ]
    },
    {
      "cell_type": "code",
      "execution_count": 14,
      "metadata": {},
      "outputs": [
        {
          "data": {
            "text/plain": [
              "np.float64(1038375700.0)"
            ]
          },
          "execution_count": 14,
          "metadata": {},
          "output_type": "execute_result"
        }
      ],
      "source": [
        "facturacion_tienda4=tienda4['Precio'].sum()\n",
        "facturacion_tienda4"
      ]
    },
    {
      "cell_type": "markdown",
      "metadata": {
        "id": "2V_vcAPzWZmR"
      },
      "source": [
        "# 2. Ventas por categoría"
      ]
    },
    {
      "cell_type": "code",
      "execution_count": 15,
      "metadata": {
        "id": "A34YupIuYhfF"
      },
      "outputs": [
        {
          "name": "stdout",
          "output_type": "stream",
          "text": [
            "{'Electrónicos': 448, 'Muebles': 465, 'Juguetes': 324, 'Electrodomésticos': 312, 'Artículos para el hogar': 171, 'Deportes y diversión': 284, 'Libros': 173, 'Instrumentos musicales': 182}\n"
          ]
        },
        {
          "data": {
            "text/plain": [
              "\"\\nvalores_unicos = set(tienda['Categoría del Producto'])\\nconteo_total = {valor: tienda['Categoría del Producto'].count(valor) for valor in valores_unicos}\\nprint(conteo_total)\\n\\n\""
            ]
          },
          "execution_count": 15,
          "metadata": {},
          "output_type": "execute_result"
        }
      ],
      "source": [
        "#Tienda 1: \n",
        "categorias_tienda=tienda['Categoría del Producto']\n",
        "conteo_tienda={}\n",
        "for item in categorias_tienda:\n",
        "    if item in conteo_tienda: \n",
        "        conteo_tienda[item]+=1\n",
        "    else:\n",
        "        conteo_tienda[item]=1\n",
        "print(conteo_tienda)\n",
        "\n",
        "##Otro metodo funcional pero menos eficiente : \n",
        "\n",
        "\"\"\"\n",
        "valores_unicos = set(tienda['Categoría del Producto'])\n",
        "conteo_total = {valor: tienda['Categoría del Producto'].count(valor) for valor in valores_unicos}\n",
        "print(conteo_total)\n",
        "\n",
        "\"\"\""
      ]
    },
    {
      "cell_type": "code",
      "execution_count": 16,
      "metadata": {},
      "outputs": [
        {
          "name": "stdout",
          "output_type": "stream",
          "text": [
            "{'Muebles': 442, 'Instrumentos musicales': 224, 'Deportes y diversión': 275, 'Electrónicos': 422, 'Artículos para el hogar': 181, 'Juguetes': 313, 'Electrodomésticos': 305, 'Libros': 197}\n"
          ]
        }
      ],
      "source": [
        "#Tienda 2: \n",
        "categorias_tienda2=tienda2['Categoría del Producto']\n",
        "conteo_tienda2={}\n",
        "for item in categorias_tienda2:\n",
        "    if item in conteo_tienda2: \n",
        "        conteo_tienda2[item]+=1\n",
        "    else:\n",
        "        conteo_tienda2[item]=1\n",
        "print(conteo_tienda2)\n"
      ]
    },
    {
      "cell_type": "code",
      "execution_count": 17,
      "metadata": {},
      "outputs": [
        {
          "name": "stdout",
          "output_type": "stream",
          "text": [
            "{'Electrodomésticos': 278, 'Muebles': 499, 'Instrumentos musicales': 177, 'Deportes y diversión': 277, 'Electrónicos': 451, 'Juguetes': 315, 'Artículos para el hogar': 177, 'Libros': 185}\n"
          ]
        }
      ],
      "source": [
        "#Tienda 3: \n",
        "categorias_tienda3=tienda3['Categoría del Producto']\n",
        "conteo_tienda3={}\n",
        "for item in categorias_tienda3:\n",
        "    if item in conteo_tienda3: \n",
        "        conteo_tienda3[item]+=1\n",
        "    else:\n",
        "        conteo_tienda3[item]=1\n",
        "print(conteo_tienda3)\n"
      ]
    },
    {
      "cell_type": "code",
      "execution_count": 18,
      "metadata": {
        "id": "yZR6cOjXYSk1"
      },
      "outputs": [
        {
          "name": "stdout",
          "output_type": "stream",
          "text": [
            "{'Electrodomésticos': 254, 'Muebles': 480, 'Deportes y diversión': 277, 'Libros': 187, 'Electrónicos': 451, 'Instrumentos musicales': 170, 'Juguetes': 338, 'Artículos para el hogar': 201}\n"
          ]
        }
      ],
      "source": [
        "#Tienda 3: \n",
        "categorias_tienda4=tienda4['Categoría del Producto']\n",
        "conteo_tienda4={}\n",
        "for item in categorias_tienda4:\n",
        "    if item in conteo_tienda4: \n",
        "        conteo_tienda4[item]+=1\n",
        "    else:\n",
        "        conteo_tienda4[item]=1\n",
        "print(conteo_tienda4)"
      ]
    },
    {
      "cell_type": "markdown",
      "metadata": {
        "id": "Rq6tU_xSY3jk"
      },
      "source": [
        "# 3. Calificación promedio de la tienda\n"
      ]
    },
    {
      "cell_type": "code",
      "execution_count": 19,
      "metadata": {
        "id": "bh3jjjJwY5MU"
      },
      "outputs": [
        {
          "name": "stdout",
          "output_type": "stream",
          "text": [
            "Calificación promedio tienda 1: 3.98\n",
            "Calificación promedio tienda 2: 4.04\n",
            "Calificación promedio tienda 3: 4.05\n",
            "Calificación promedio tienda 4: 4.00\n"
          ]
        },
        {
          "data": {
            "text/plain": [
              "'\\nsuma_calificaciones = tienda[\\'Calificación\\'].sum()\\ncantidad_calificaciones = len(tienda[\\'Calificación\\'])\\npromedio_manual = suma_calificaciones / cantidad_calificaciones\\n\\nprint(f\"Calificación promedio (cálculo manual): {promedio_manual:.2f}\")\\n\\n'"
            ]
          },
          "execution_count": 19,
          "metadata": {},
          "output_type": "execute_result"
        }
      ],
      "source": [
        "calificacion_promedio_tienda=tienda['Calificación'].mean()\n",
        "calificacion_promedio_tienda2=tienda2['Calificación'].mean()\n",
        "calificacion_promedio_tienda3=tienda3['Calificación'].mean()\n",
        "calificacion_promedio_tienda4=tienda4['Calificación'].mean()\n",
        "\n",
        "print(f\"Calificación promedio tienda 1: {calificacion_promedio_tienda:.2f}\")\n",
        "print(f\"Calificación promedio tienda 2: {calificacion_promedio_tienda2:.2f}\")\n",
        "print(f\"Calificación promedio tienda 3: {calificacion_promedio_tienda3:.2f}\")\n",
        "print(f\"Calificación promedio tienda 4: {calificacion_promedio_tienda4:.2f}\")\n",
        "#Metodo menos eficiente : \n",
        "\"\"\"\n",
        "suma_calificaciones = tienda['Calificación'].sum()\n",
        "cantidad_calificaciones = len(tienda['Calificación'])\n",
        "promedio_manual = suma_calificaciones / cantidad_calificaciones\n",
        "\n",
        "print(f\"Calificación promedio (cálculo manual): {promedio_manual:.2f}\")\n",
        "\n",
        "\"\"\""
      ]
    },
    {
      "cell_type": "code",
      "execution_count": 51,
      "metadata": {},
      "outputs": [
        {
          "data": {
            "image/png": "[encoded data removed]",
            "text/plain": [
              "<Figure size 1000x800 with 1 Axes>"
            ]
          },
          "metadata": {},
          "output_type": "display_data"
        }
      ],
      "source": [
        "# Gráfico de radar para calificación promedio\n",
        "import numpy as np\n",
        "\n",
        "# Configurar el gráfico\n",
        "fig = plt.figure(figsize=(10, 8))\n",
        "ax = fig.add_subplot(111, polar=True)\n",
        "\n",
        "# Datos\n",
        "tiendas = ['Tienda 1', 'Tienda 2', 'Tienda 3', 'Tienda 4']\n",
        "calificaciones = [calificacion_promedio_tienda, calificacion_promedio_tienda2, \n",
        "                 calificacion_promedio_tienda3, calificacion_promedio_tienda4]\n",
        "\n",
        "# Añadir el punto inicial al final para cerrar el polígono\n",
        "tiendas = np.append(tiendas, tiendas[0])\n",
        "calificaciones = np.append(calificaciones, calificaciones[0])\n",
        "\n",
        "# Calcular ángulos para cada eje\n",
        "angles = np.linspace(0, 2*np.pi, len(tiendas)-1, endpoint=False)\n",
        "angles = np.append(angles, angles[0])\n",
        "\n",
        "# Dibujar las líneas y los puntos\n",
        "ax.plot(angles, calificaciones, 'o-', linewidth=2, label='Calificación')\n",
        "ax.fill(angles, calificaciones, alpha=0.25)\n",
        "\n",
        "# Configurar los ejes y etiquetas\n",
        "ax.set_thetagrids(angles[:-1] * 180/np.pi, tiendas[:-1])\n",
        "ax.set_ylim(0, 5)  # Asumiendo calificaciones de 0 a 5\n",
        "ax.set_title('Calificación Promedio por Tienda', size=15, y=1.1)\n",
        "ax.grid(True)\n",
        "\n",
        "# Añadir etiquetas con los valores\n",
        "for i, valor in enumerate(calificaciones[:-1]):\n",
        "    ax.text(angles[i], valor + 0.2, f'{valor:.2f}', ha='center', va='center')\n",
        "\n",
        "plt.tight_layout()\n",
        "plt.show()"
      ]
    },
    {
      "cell_type": "markdown",
      "metadata": {
        "id": "DmNp1KPBZCm-"
      },
      "source": [
        "# 4. Productos más y menos vendidos"
      ]
    },
    {
      "cell_type": "code",
      "execution_count": 28,
      "metadata": {
        "id": "qoyjqijQZHfF"
      },
      "outputs": [
        {
          "name": "stdout",
          "output_type": "stream",
          "text": [
            "Producto más vendido en Tienda 1: Microondas (60 ventas)\n",
            "Producto menos vendido en Tienda 1: Auriculares con micrófono (33 ventas)\n"
          ]
        }
      ],
      "source": [
        "# Para Tienda 1:\n",
        "conteo_productos_t1 = {}\n",
        "for producto in tienda['Producto']:\n",
        "    if producto in conteo_productos_t1:\n",
        "        conteo_productos_t1[producto] += 1  # Aquí estaba el error: usar 'producto' no 'Producto'\n",
        "    else:\n",
        "        conteo_productos_t1[producto] = 1\n",
        "\n",
        "# Encontrar el producto más vendido\n",
        "mas_vendido = None\n",
        "menos_vendido = None\n",
        "max_cantidad = -1\n",
        "min_cantidad = float('inf')  # Iniciar con un valor muy alto\n",
        "\n",
        "for producto, cantidad in conteo_productos_t1.items():\n",
        "    if cantidad > max_cantidad:\n",
        "        max_cantidad = cantidad\n",
        "        mas_vendido = producto\n",
        "    if cantidad < min_cantidad:\n",
        "        min_cantidad = cantidad\n",
        "        menos_vendido = producto\n",
        "\n",
        "print(f\"Producto más vendido en Tienda 1: {mas_vendido} ({max_cantidad} ventas)\")\n",
        "print(f\"Producto menos vendido en Tienda 1: {menos_vendido} ({min_cantidad} ventas)\")"
      ]
    },
    {
      "cell_type": "code",
      "execution_count": 26,
      "metadata": {},
      "outputs": [
        {
          "name": "stdout",
          "output_type": "stream",
          "text": [
            "Producto más vendido en Tienda 2: Iniciando en programación (65 ventas)\n",
            "Producto menos vendido en Tienda 2: Juego de mesa (32 ventas)\n"
          ]
        }
      ],
      "source": [
        "# Para Tienda 2:\n",
        "conteo_productos_t2 = {}\n",
        "for producto in tienda2['Producto']:\n",
        "    if producto in conteo_productos_t2:\n",
        "        conteo_productos_t2[producto] += 1\n",
        "    else:\n",
        "        conteo_productos_t2[producto] = 1\n",
        "\n",
        "# Encontrar el producto más vendido y menos vendido\n",
        "mas_vendido_t2 = None\n",
        "menos_vendido_t2 = None\n",
        "max_cantidad_t2 = -1\n",
        "min_cantidad_t2 = float('inf')\n",
        "\n",
        "for producto, cantidad in conteo_productos_t2.items():\n",
        "    if cantidad > max_cantidad_t2:\n",
        "        max_cantidad_t2 = cantidad\n",
        "        mas_vendido_t2 = producto\n",
        "    if cantidad < min_cantidad_t2:\n",
        "        min_cantidad_t2 = cantidad\n",
        "        menos_vendido_t2 = producto\n",
        "\n",
        "print(f\"Producto más vendido en Tienda 2: {mas_vendido_t2} ({max_cantidad_t2} ventas)\")\n",
        "print(f\"Producto menos vendido en Tienda 2: {menos_vendido_t2} ({min_cantidad_t2} ventas)\")"
      ]
    },
    {
      "cell_type": "code",
      "execution_count": 27,
      "metadata": {},
      "outputs": [
        {
          "name": "stdout",
          "output_type": "stream",
          "text": [
            "Producto más vendido en Tienda 3: Kit de bancas (57 ventas)\n",
            "Producto menos vendido en Tienda 3: Bloques de construcción (35 ventas)\n"
          ]
        }
      ],
      "source": [
        "#Para la tienda 3: \n",
        "conteo_productos_t3={}\n",
        "for producto in tienda3['Producto']:\n",
        "    if producto in conteo_productos_t3:\n",
        "        conteo_productos_t3[producto]+=1\n",
        "    else:\n",
        "        conteo_productos_t3[producto]=1\n",
        "#Encontrar el producto más vendido y menos vendido\n",
        "mas_vendido_t3=None\n",
        "menos_vendido_t3=None\n",
        "max_cantidad_t3=-1\n",
        "min_cantidad_t3=float('inf')\n",
        "for producto, cantidad in conteo_productos_t3.items():\n",
        "    if cantidad>max_cantidad_t3:\n",
        "        max_cantidad_t3=cantidad\n",
        "        mas_vendido_t3=producto\n",
        "    if cantidad<min_cantidad_t3:\n",
        "        min_cantidad_t3=cantidad\n",
        "        menos_vendido_t3=producto\n",
        "print(f\"Producto más vendido en Tienda 3: {mas_vendido_t3} ({max_cantidad_t3} ventas)\")\n",
        "print(f\"Producto menos vendido en Tienda 3: {menos_vendido_t3} ({min_cantidad_t3} ventas)\")\n",
        "\n"
      ]
    },
    {
      "cell_type": "code",
      "execution_count": 30,
      "metadata": {},
      "outputs": [
        {
          "name": "stdout",
          "output_type": "stream",
          "text": [
            "Producto mas vendidos de las tienda 4 : Cama box (62) ventas\n",
            "Producto menos vendidos de las tienda 4 : Guitarra eléctrica (33) ventas\n"
          ]
        }
      ],
      "source": [
        "#Para la tienda 4: \n",
        "conteo_productos_t4={}\n",
        "for producto in tienda4[\"Producto\"]:\n",
        "    if producto in conteo_productos_t4:\n",
        "        conteo_productos_t4[producto]+=1\n",
        "    else:\n",
        "        conteo_productos_t4[producto]=1\n",
        "#Encontrar el producto más vendido y menos vendido\n",
        "mas_vendido_t4=None\n",
        "menos_vendido_t4=None\n",
        "max_cantidad_t4=-1\n",
        "min_cantidad_t4=float('inf')\n",
        "for producto, cantidad in conteo_productos_t4.items():\n",
        "    if cantidad>max_cantidad_t4:\n",
        "        max_cantidad_t4=cantidad\n",
        "        mas_vendido_t4=producto\n",
        "    if cantidad<min_cantidad_t4:\n",
        "        min_cantidad_t4=cantidad\n",
        "        menos_vendido_t4=producto\n",
        "print(f\"Producto mas vendidos de las tienda 4 : {mas_vendido_t4} ({max_cantidad_t4}) ventas\")\n",
        "print(f\"Producto menos vendidos de las tienda 4 : {menos_vendido_t4} ({min_cantidad_t4}) ventas\")"
      ]
    },
    {
      "cell_type": "code",
      "execution_count": 45,
      "metadata": {},
      "outputs": [
        {
          "data": {
            "image/png": "[encoded data removed]",
            "text/plain": [
              "<Figure size 1400x800 with 1 Axes>"
            ]
          },
          "metadata": {},
          "output_type": "display_data"
        }
      ],
      "source": [
        "# Gráfico comparativo de productos más vendidos entre todas las tiendas\n",
        "plt.figure(figsize=(14, 8))  # Cambiar tamaño vertical (reducido)\n",
        "\n",
        "# Datos de las tiendas\n",
        "tiendas = ['Tienda 1', 'Tienda 2', 'Tienda 3', 'Tienda 4']\n",
        "productos_mas_vendidos = [mas_vendido, mas_vendido_t2, mas_vendido_t3, mas_vendido_t4]\n",
        "cantidades_mas_vendidos = [max_cantidad, max_cantidad_t2, max_cantidad_t3, max_cantidad_t4]\n",
        "\n",
        "# Crear barras\n",
        "bars = plt.bar(tiendas, cantidades_mas_vendidos, color=['blue', 'green', 'red', 'purple'], \n",
        "              width=0.6)  # Barras más delgadas\n",
        "\n",
        "# Configurar límites del eje Y para que las barras parezcan más pequeñas\n",
        "max_value = max(cantidades_mas_vendidos)\n",
        "plt.ylim(0, max_value * 1.5)  # Aumentar el límite superior del eje Y\n",
        "\n",
        "# Añadir etiquetas y título\n",
        "plt.title('Producto más vendido por tienda', fontsize=16, pad=30)  # Más padding al título\n",
        "plt.xlabel('Tiendas', fontsize=14)\n",
        "plt.ylabel('Cantidad vendida', fontsize=14)\n",
        "plt.grid(axis='y', linestyle='--', alpha=0.3)\n",
        "\n",
        "# Mostrar nombres de productos sobre las barras (ajustado)\n",
        "for i, bar in enumerate(bars):\n",
        "    plt.text(i, bar.get_height() + (max_value * 0.05), productos_mas_vendidos[i], \n",
        "             ha='center', va='bottom', rotation=45, fontsize=9)  # Ajustar posición relativa\n",
        "    plt.text(i, bar.get_height()/2, cantidades_mas_vendidos[i], \n",
        "             ha='center', va='center', color='white', fontweight='bold')\n",
        "\n",
        "plt.tight_layout()\n",
        "plt.show()"
      ]
    },
    {
      "cell_type": "code",
      "execution_count": 46,
      "metadata": {},
      "outputs": [
        {
          "data": {
            "image/png": "[encoded data removed]",
            "text/plain": [
              "<Figure size 1400x800 with 1 Axes>"
            ]
          },
          "metadata": {},
          "output_type": "display_data"
        }
      ],
      "source": [
        "# Gráfico comparativo de productos menos vendidos entre todas las tiendas\n",
        "plt.figure(figsize=(14, 8))\n",
        "\n",
        "# Datos de las tiendas\n",
        "tiendas = ['Tienda 1', 'Tienda 2', 'Tienda 3', 'Tienda 4']\n",
        "productos_menos_vendidos = [menos_vendido, menos_vendido_t2, menos_vendido_t3, menos_vendido_t4]\n",
        "cantidades_menos_vendidos = [min_cantidad, min_cantidad_t2, min_cantidad_t3, min_cantidad_t4]\n",
        "\n",
        "# Crear barras más delgadas\n",
        "bars = plt.bar(tiendas, cantidades_menos_vendidos, color=['lightblue', 'lightgreen', 'salmon', 'plum'],\n",
        "              width=0.6)  # Barras más delgadas\n",
        "\n",
        "# Configurar límites del eje Y\n",
        "max_value = max(cantidades_menos_vendidos)\n",
        "plt.ylim(0, max_value * 2)  # Aumentar el límite superior\n",
        "\n",
        "# Añadir etiquetas y título\n",
        "plt.title('Producto menos vendido por tienda', fontsize=16, pad=30)\n",
        "plt.xlabel('Tiendas', fontsize=14)\n",
        "plt.ylabel('Cantidad vendida', fontsize=14)\n",
        "plt.grid(axis='y', linestyle='--', alpha=0.3)\n",
        "\n",
        "# Mostrar nombres de productos sobre las barras\n",
        "for i, bar in enumerate(bars):\n",
        "    plt.text(i, bar.get_height() + (max_value * 0.1), productos_menos_vendidos[i], \n",
        "             ha='center', va='bottom', rotation=45, fontsize=9)\n",
        "    plt.text(i, bar.get_height()/2, cantidades_menos_vendidos[i], \n",
        "             ha='center', va='center', color='black', fontweight='bold')\n",
        "\n",
        "plt.tight_layout()\n",
        "plt.show()"
      ]
    },
    {
      "cell_type": "markdown",
      "metadata": {
        "id": "Fl0cGi3bZKqU"
      },
      "source": [
        "# 5. Envío promedio por tienda"
      ]
    },
    {
      "cell_type": "code",
      "execution_count": 32,
      "metadata": {
        "id": "S2JeaCykZNy9"
      },
      "outputs": [
        {
          "name": "stdout",
          "output_type": "stream",
          "text": [
            "Costo de envío promedio Tienda 1: $26018.61\n",
            "Costo de envío promedio Tienda 2: $25216.24\n",
            "Costo de envío promedio Tienda 3: $24805.68\n",
            "Costo de envío promedio Tienda 4: $23459.46\n"
          ]
        }
      ],
      "source": [
        "# Cálculo del costo de envío promedio para cada tienda\n",
        "envio_promedio_tienda1 = tienda['Costo de envío'].mean()\n",
        "envio_promedio_tienda2 = tienda2['Costo de envío'].mean()\n",
        "envio_promedio_tienda3 = tienda3['Costo de envío'].mean()\n",
        "envio_promedio_tienda4 = tienda4['Costo de envío'].mean()\n",
        "\n",
        "# Mostrar resultados formateados\n",
        "print(f\"Costo de envío promedio Tienda 1: ${envio_promedio_tienda1:.2f}\")\n",
        "print(f\"Costo de envío promedio Tienda 2: ${envio_promedio_tienda2:.2f}\")\n",
        "print(f\"Costo de envío promedio Tienda 3: ${envio_promedio_tienda3:.2f}\")\n",
        "print(f\"Costo de envío promedio Tienda 4: ${envio_promedio_tienda4:.2f}\")"
      ]
    },
    {
      "cell_type": "code",
      "execution_count": 37,
      "metadata": {},
      "outputs": [
        {
          "data": {
            "image/png": "[encoded data removed]",
            "text/plain": [
              "<Figure size 1000x600 with 1 Axes>"
            ]
          },
          "metadata": {},
          "output_type": "display_data"
        }
      ],
      "source": [
        "# Crear datos para el gráfico\n",
        "tiendas = ['Tienda 1', 'Tienda 2', 'Tienda 3', 'Tienda 4']\n",
        "costos_envio = [envio_promedio_tienda1, envio_promedio_tienda2, \n",
        "                envio_promedio_tienda3, envio_promedio_tienda4]\n",
        "\n",
        "# Crear gráfico de barras\n",
        "plt.figure(figsize=(10, 6))\n",
        "plt.bar(tiendas, costos_envio, color=['blue', 'green', 'red', 'purple'])\n",
        "plt.title('Costo de Envío Promedio por Tienda')\n",
        "plt.xlabel('Tiendas')\n",
        "plt.ylabel('Costo ($)')\n",
        "plt.grid(axis='y', linestyle='--', alpha=0.7)\n",
        "\n",
        "# Añadir etiquetas con los valores\n",
        "for i, v in enumerate(costos_envio):\n",
        "    plt.text(i, v + 0.3, f'${v:.2f}', ha='center')\n",
        "\n",
        "plt.show()"
      ]
    }
  ],
  "metadata": {
    "colab": {
      "provenance": []
    },
    "kernelspec": {
      "display_name": ".venv",
      "language": "python",
      "name": "python3"
    },
    "language_info": {
      "codemirror_mode": {
        "name": "ipython",
        "version": 3
      },
      "file_extension": ".py",
      "mimetype": "text/x-python",
      "name": "python",
      "nbconvert_exporter": "python",
      "pygments_lexer": "ipython3",
      "version": "3.13.3"
    }
  },
  "nbformat": 4,
  "nbformat_minor": 0
}
